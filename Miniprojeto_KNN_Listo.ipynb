{
  "nbformat": 4,
  "nbformat_minor": 0,
  "metadata": {
    "colab": {
      "name": "Miniprojeto-KNN-Listo.ipynb",
      "private_outputs": true,
      "provenance": [],
      "collapsed_sections": [
        "F2irmH6r5Blh",
        "OyFs04uSao_e",
        "yhcZdnyNYtq4"
      ]
    },
    "kernelspec": {
      "name": "python3",
      "display_name": "Python 3"
    },
    "language_info": {
      "name": "python"
    }
  },
  "cells": [
    {
      "cell_type": "markdown",
      "metadata": {
        "id": "1C0GXWqUurpd"
      },
      "source": [
        "**ALUNOS:**\n",
        "\n",
        "CARLOS DINART SANTOS DE MORAIS JUNIOR,\n",
        "\n",
        "DOUGLAS SILVA DE ALMEIDA,\n",
        "\n",
        "LUCAS DO LAGO MONIZ DA SILVA"
      ]
    },
    {
      "cell_type": "markdown",
      "metadata": {
        "id": "hugorzzXv6d4"
      },
      "source": [
        "**TAMANHO DOS DATASETS:**\n",
        "\n",
        "1- 2000 LINHAS \n",
        "\n",
        "2 - 891 LINHAS\n",
        "\n",
        "3- 45222 LINHAS"
      ]
    },
    {
      "cell_type": "markdown",
      "metadata": {
        "id": "F2irmH6r5Blh"
      },
      "source": [
        "##Dataset1 - Predição de casos de diabetes"
      ]
    },
    {
      "cell_type": "markdown",
      "metadata": {
        "id": "9tOoQaLYwqvR"
      },
      "source": [
        "Este dataset, com dados do hospital de Frankfurt, tem como objetivo tentar descobrir se a pessoa possui diabetes.\n"
      ]
    },
    {
      "cell_type": "code",
      "metadata": {
        "id": "L9MmYAT1YWdE"
      },
      "source": [
        "from google.colab import drive\n",
        "drive.mount('/content/drive')"
      ],
      "execution_count": null,
      "outputs": []
    },
    {
      "cell_type": "code",
      "metadata": {
        "id": "lWMIajTk4yHY"
      },
      "source": [
        "import pandas as pd\n",
        "import numpy as np\n",
        "pd.set_option('display.max_rows', 10)\n",
        "from sklearn.model_selection import train_test_split #Separar os dados\n",
        "from sklearn.preprocessing import StandardScaler #preprocessar para evitar viés\n",
        "from sklearn.neighbors import KNeighborsClassifier #\n",
        "from sklearn.metrics import confusion_matrix\n",
        "from sklearn.metrics import f1_score\n",
        "from sklearn.metrics import accuracy_score, classification_report"
      ],
      "execution_count": null,
      "outputs": []
    },
    {
      "cell_type": "code",
      "metadata": {
        "id": "WSVfM1EwpJyP"
      },
      "source": [
        "df = pd.read_csv('/content/drive/MyDrive/Data Science/KNN/diabetes.csv', sep=',')\n",
        "df"
      ],
      "execution_count": null,
      "outputs": []
    },
    {
      "cell_type": "code",
      "metadata": {
        "id": "Jfu03fkjpdXe"
      },
      "source": [
        "#verificando se existem algum dado com 0\n",
        "df.loc[df['BloodPressure']==0]"
      ],
      "execution_count": null,
      "outputs": []
    },
    {
      "cell_type": "code",
      "metadata": {
        "id": "-OMCrUrop7eN"
      },
      "source": [
        "#substituindo os valores iguais a zero pela média\n",
        "sem_zero=['Glucose','BloodPressure','SkinThickness','Insulin','BMI']\n",
        "\n",
        "for coluna in sem_zero:\n",
        "  df[coluna] = df[coluna].replace(0, np.NaN)\n",
        "  media = int(df[coluna].mean(skipna=True))\n",
        "  df[coluna] = df[coluna].replace(np.NaN, media)"
      ],
      "execution_count": null,
      "outputs": []
    },
    {
      "cell_type": "code",
      "metadata": {
        "id": "dXS02M6BrZEe"
      },
      "source": [
        "#dataframe sem 0\n",
        "df"
      ],
      "execution_count": null,
      "outputs": []
    },
    {
      "cell_type": "code",
      "metadata": {
        "id": "PSVmrLRNrhqF"
      },
      "source": [
        "#dividindo o dataset em teste e treino\n",
        "X = df.iloc[:, 0:8]\n",
        "y = df.iloc[:, 8]\n",
        "X_train, X_text, y_train, y_test = train_test_split(X,y, random_state=0, test_size = 0.2)"
      ],
      "execution_count": null,
      "outputs": []
    },
    {
      "cell_type": "code",
      "metadata": {
        "id": "lwm31rYRsmJN"
      },
      "source": [
        "#scaling \n",
        "sc_X = StandardScaler()\n",
        "X_train = sc_X.fit_transform(X_train)\n",
        "X_text = sc_X.transform(X_text)"
      ],
      "execution_count": null,
      "outputs": []
    },
    {
      "cell_type": "code",
      "metadata": {
        "id": "7PwNTNVbtU9c"
      },
      "source": [
        "#definindo um valor para K\n",
        "int(len(y_train)**0.5)\n"
      ],
      "execution_count": null,
      "outputs": []
    },
    {
      "cell_type": "code",
      "metadata": {
        "id": "C1kb91BEs3z1"
      },
      "source": [
        "# criando o classificador\n",
        "classifier = KNeighborsClassifier(n_neighbors=41, p=2, metric = 'euclidean')"
      ],
      "execution_count": null,
      "outputs": []
    },
    {
      "cell_type": "code",
      "metadata": {
        "id": "yqmOO3VxvP6M"
      },
      "source": [
        "classifier.fit(X_train, y_train)"
      ],
      "execution_count": null,
      "outputs": []
    },
    {
      "cell_type": "code",
      "metadata": {
        "id": "urTn1a1aug1k"
      },
      "source": [
        "y_pred = classifier.predict(X_text)\n",
        "y_pred"
      ],
      "execution_count": null,
      "outputs": []
    },
    {
      "cell_type": "code",
      "metadata": {
        "id": "rGW--_N7t8xd"
      },
      "source": [
        "cm = confusion_matrix(y_test, y_pred)\n",
        "print(cm)\n",
        "print(\"\\n\",f1_score(y_test, y_pred))"
      ],
      "execution_count": null,
      "outputs": []
    },
    {
      "cell_type": "code",
      "metadata": {
        "id": "Cix5-bxcdLsF"
      },
      "source": [
        "antes = accuracy_score(y_test, y_pred)\n",
        "antes"
      ],
      "execution_count": null,
      "outputs": []
    },
    {
      "cell_type": "code",
      "metadata": {
        "id": "aA64suWduRaD"
      },
      "source": [
        "print(classification_report(y_test, y_pred))"
      ],
      "execution_count": null,
      "outputs": []
    },
    {
      "cell_type": "markdown",
      "metadata": {
        "id": "OyFs04uSao_e"
      },
      "source": [
        "###Procurando o melhor valor para K\n"
      ]
    },
    {
      "cell_type": "code",
      "metadata": {
        "id": "HRkGR8xGa2-W"
      },
      "source": [
        "from sklearn.model_selection import GridSearchCV\n",
        "knn_params = {\"n_neighbors\": np.arange(1,20)}\n",
        "knn = KNeighborsClassifier()\n",
        "knn_cv = GridSearchCV(knn, knn_params, cv=10)\n",
        "knn_cv.fit(X_train, y_train)"
      ],
      "execution_count": null,
      "outputs": []
    },
    {
      "cell_type": "code",
      "metadata": {
        "id": "8ApaYpkrbfeX"
      },
      "source": [
        "print(\"melhor KNN score:\" + str(knn_cv.best_score_))\n",
        "print(\"Melhor valor para K: \" + str(knn_cv.best_params_))"
      ],
      "execution_count": null,
      "outputs": []
    },
    {
      "cell_type": "markdown",
      "metadata": {
        "id": "oEl24oVgb0gF"
      },
      "source": [
        "###Comparando a precisão para diferentes valores de K"
      ]
    },
    {
      "cell_type": "code",
      "metadata": {
        "id": "i9DxQ_mXcY8z"
      },
      "source": [
        "classifier = KNeighborsClassifier(n_neighbors=1, p=2, metric = 'euclidean')\n",
        "classifier.fit(X_train, y_train)"
      ],
      "execution_count": null,
      "outputs": []
    },
    {
      "cell_type": "code",
      "metadata": {
        "id": "JcdGISHYcY86"
      },
      "source": [
        "y_pred = classifier.predict(X_text)\n",
        "depois = accuracy_score(y_test, y_pred)\n",
        "depois"
      ],
      "execution_count": null,
      "outputs": []
    },
    {
      "cell_type": "code",
      "metadata": {
        "id": "k9h-j4J1cvdF"
      },
      "source": [
        "d = {'Precisão com K = raiz quadrada do tamanho do teste': [antes], '/ Precisão com o GridSearchCV': [depois]}"
      ],
      "execution_count": null,
      "outputs": []
    },
    {
      "cell_type": "code",
      "metadata": {
        "id": "KrLocY8acvRm"
      },
      "source": [
        "pd.DataFrame(data=d)"
      ],
      "execution_count": null,
      "outputs": []
    },
    {
      "cell_type": "markdown",
      "metadata": {
        "id": "pfW5ALmn3jao"
      },
      "source": [
        "##Dataset 2 - TITANIC"
      ]
    },
    {
      "cell_type": "markdown",
      "metadata": {
        "id": "JvfYCEDzwV7g"
      },
      "source": [
        "Aqui será feita uma previsão se a pessoa sobreviveu ou morreu no Titanic"
      ]
    },
    {
      "cell_type": "code",
      "metadata": {
        "id": "vwGZuJ6OTebY"
      },
      "source": [
        "import numpy as np\n",
        "import pandas as pd\n",
        "import matplotlib.pyplot as plt"
      ],
      "execution_count": null,
      "outputs": []
    },
    {
      "cell_type": "code",
      "metadata": {
        "id": "d-9K85zXh8uS"
      },
      "source": [
        "df = pd.read_csv('/content/drive/MyDrive/Data Science/KNN/train.csv') # Salvamos com esse nome antes\n",
        "df.head()"
      ],
      "execution_count": null,
      "outputs": []
    },
    {
      "cell_type": "code",
      "metadata": {
        "id": "ulUiO5pHvELB"
      },
      "source": [
        "df.shape"
      ],
      "execution_count": null,
      "outputs": []
    },
    {
      "cell_type": "code",
      "metadata": {
        "id": "7FVugNoxiUJq"
      },
      "source": [
        "df.drop(columns=['PassengerId', 'Name', 'Ticket', 'Age'], inplace=True)\n",
        "df.head()"
      ],
      "execution_count": null,
      "outputs": []
    },
    {
      "cell_type": "code",
      "metadata": {
        "id": "efx9dCSniY2S"
      },
      "source": [
        "for col in df.columns:\n",
        "    if df[col].dtype == object:\n",
        "        print(col)"
      ],
      "execution_count": null,
      "outputs": []
    },
    {
      "cell_type": "code",
      "metadata": {
        "id": "7FReplqeiiPE"
      },
      "source": [
        "df = pd.get_dummies(df)\n",
        "df.head()"
      ],
      "execution_count": null,
      "outputs": []
    },
    {
      "cell_type": "code",
      "metadata": {
        "id": "wutRqQJcimtI"
      },
      "source": [
        "from sklearn.preprocessing import MinMaxScaler"
      ],
      "execution_count": null,
      "outputs": []
    },
    {
      "cell_type": "code",
      "metadata": {
        "id": "J0FiHqEVisVs"
      },
      "source": [
        "scaler = MinMaxScaler()\n",
        "scaler.fit(df)\n",
        "df = pd.DataFrame(scaler.transform(df), columns=df.columns)\n",
        "print(df)"
      ],
      "execution_count": null,
      "outputs": []
    },
    {
      "cell_type": "code",
      "metadata": {
        "id": "-Nt88NruixqW"
      },
      "source": [
        "df.head()"
      ],
      "execution_count": null,
      "outputs": []
    },
    {
      "cell_type": "code",
      "metadata": {
        "id": "0d8R-4ZVi2gq"
      },
      "source": [
        "target = 'Survived'\n",
        "features = list(df.columns)\n",
        "features.remove(target)\n",
        "\n",
        "print('Features:', features)\n",
        "print('Target:', target)"
      ],
      "execution_count": null,
      "outputs": []
    },
    {
      "cell_type": "code",
      "metadata": {
        "id": "uhigQDlwi7TI"
      },
      "source": [
        "from sklearn.model_selection import train_test_split\n",
        "\n",
        "X_train, X_val, y_train, y_val = train_test_split(df[features], df[target], \n",
        "                                                    test_size=0.2, random_state=42)\n",
        "\n",
        "print(X_train.shape)\n",
        "print(X_val.shape)\n",
        "print(y_train.shape)\n",
        "print(y_val.shape)"
      ],
      "execution_count": null,
      "outputs": []
    },
    {
      "cell_type": "code",
      "metadata": {
        "id": "8hpeoIbrn7Ej"
      },
      "source": [
        "#descobrindo o valor de k\n",
        "val_k = round(len(y_train)**0.5)\n",
        "val_k"
      ],
      "execution_count": null,
      "outputs": []
    },
    {
      "cell_type": "code",
      "metadata": {
        "id": "6nTWNpY-jASY"
      },
      "source": [
        "# Importando nosso classificador\n",
        "from sklearn.neighbors import KNeighborsClassifier\n",
        "\n",
        "# Criando o modelo que usa k = sqrt(y_train)\n",
        "clf = KNeighborsClassifier(n_neighbors=val_k)\n",
        "\n",
        "# Treinando o modelo nos dados de treino\n",
        "clf.fit(X_train, y_train)"
      ],
      "execution_count": null,
      "outputs": []
    },
    {
      "cell_type": "code",
      "metadata": {
        "id": "9XGJF9MxjJSm"
      },
      "source": [
        "# Assim podemos usar o modelo para prever a classe de novos exemplos\n",
        "y_pred = clf.predict(X_val)"
      ],
      "execution_count": null,
      "outputs": []
    },
    {
      "cell_type": "code",
      "metadata": {
        "id": "9S6GDXZJjO_z"
      },
      "source": [
        "# Importar a função que calcula a acurácia\n",
        "from sklearn.metrics import accuracy_score\n",
        "\n",
        "acc = accuracy_score(y_val, y_pred)\n",
        "print('Acurácia:', acc)"
      ],
      "execution_count": null,
      "outputs": []
    },
    {
      "cell_type": "code",
      "metadata": {
        "id": "GJrCmXwkjWUT"
      },
      "source": [
        "# Criando lista com todos os números de vizinhos que queremos testar\n",
        "n_vizinhos = np.arange(1, 11) # Array de 1 a 10\n",
        "\n",
        "# Criando uma lista para guardarmos os resultados\n",
        "resultados = []\n",
        "\n",
        "# Para cada numero de vizinhos\n",
        "for k in n_vizinhos:\n",
        "    # Criamos um modelo novo e treinamos ele\n",
        "    clf = KNeighborsClassifier(n_neighbors=k)\n",
        "    clf.fit(X_train, y_train)\n",
        "    \n",
        "    # Fazendo predição para os dados de validação e calculando acurácia\n",
        "    y_pred = clf.predict(X_val)\n",
        "    acc = accuracy_score(y_val, y_pred)\n",
        "    \n",
        "    # Salvando a acurácia para o numero atual de vizinhos\n",
        "    resultados.append(acc)"
      ],
      "execution_count": null,
      "outputs": []
    },
    {
      "cell_type": "code",
      "metadata": {
        "id": "Xd2uOwodjeOm"
      },
      "source": [
        "# No eixo x teremos o número de vizinhos e no eixo y a acurácia\n",
        "plt.plot(n_vizinhos, resultados, '-o')\n",
        "# Definindo que no eixo x queremos exibir cada numero de vizinhos\n",
        "plt.xticks(n_vizinhos);"
      ],
      "execution_count": null,
      "outputs": []
    },
    {
      "cell_type": "code",
      "metadata": {
        "id": "xFx4LNBYjvTp"
      },
      "source": [
        "lista = [2,27]\n",
        "resultados = []\n",
        "for k in lista:\n",
        "    clf = KNeighborsClassifier(n_neighbors=k)\n",
        "    clf.fit(X_train, y_train)\n",
        "    \n",
        "    y_pred = clf.predict(X_val)\n",
        "    acc = accuracy_score(y_val, y_pred)\n",
        "    resultados.append(acc)\n"
      ],
      "execution_count": null,
      "outputs": []
    },
    {
      "cell_type": "code",
      "metadata": {
        "id": "G8F80L70kvbt"
      },
      "source": [
        "# Comparando a Precisão para os 2 valores de K\n",
        "plt.plot(lista, resultados, '-o')\n",
        "plt.xticks(lista);"
      ],
      "execution_count": null,
      "outputs": []
    },
    {
      "cell_type": "markdown",
      "metadata": {
        "id": "yhcZdnyNYtq4"
      },
      "source": [
        "##DATASET 3 - SALÁRIO\n"
      ]
    },
    {
      "cell_type": "markdown",
      "metadata": {
        "id": "i9kBwIl3wGT_"
      },
      "source": [
        "Neste dataset nós vamos tentar prever se a pessoa tem um salário maior ou menor que 50 mil dolares"
      ]
    },
    {
      "cell_type": "code",
      "metadata": {
        "_uuid": "8f2839f25d086af736a60e9eeb907d3b93b6e0e5",
        "_cell_guid": "b1076dfc-b9ad-4769-8c92-a6c4dae69d19",
        "trusted": true,
        "id": "5JhH-LAGU9FI"
      },
      "source": [
        "import numpy as np \n",
        "import pandas as pd \n",
        "import seaborn as sns\n",
        "import matplotlib.pyplot as plt\n"
      ],
      "execution_count": null,
      "outputs": []
    },
    {
      "cell_type": "markdown",
      "metadata": {
        "id": "Xh_7oEZcU9FM"
      },
      "source": [
        "## **Introdução**"
      ]
    },
    {
      "cell_type": "code",
      "metadata": {
        "trusted": true,
        "id": "LAcaFvalU9FN"
      },
      "source": [
        "#importando o dataset\n",
        "df = pd.read_csv('/content/drive/MyDrive/Data Science/KNN/adult.csv', sep=',')"
      ],
      "execution_count": null,
      "outputs": []
    },
    {
      "cell_type": "code",
      "metadata": {
        "trusted": true,
        "id": "gPDaYhfAU9FO"
      },
      "source": [
        "df.shape"
      ],
      "execution_count": null,
      "outputs": []
    },
    {
      "cell_type": "markdown",
      "metadata": {
        "id": "DU4e3bBUU9FO"
      },
      "source": [
        "## **Limpando os Dados**"
      ]
    },
    {
      "cell_type": "markdown",
      "metadata": {
        "id": "KmlTS23VU9FO"
      },
      "source": [
        "Apagando as celulas com valores desconhecidos"
      ]
    },
    {
      "cell_type": "code",
      "metadata": {
        "trusted": true,
        "id": "esdrgV40U9FP"
      },
      "source": [
        "df = df.replace('?',np.NaN)\n",
        "df = df.dropna(axis = 0)\n",
        "df = df.reset_index(drop=True)\n",
        "df"
      ],
      "execution_count": null,
      "outputs": []
    },
    {
      "cell_type": "markdown",
      "metadata": {
        "id": "n4hOOkpnU9FP"
      },
      "source": [
        "Checando os valores que estão contidos na coluna income"
      ]
    },
    {
      "cell_type": "code",
      "metadata": {
        "trusted": true,
        "id": "34Z-tA2xU9FP"
      },
      "source": [
        "df['income'].value_counts()"
      ],
      "execution_count": null,
      "outputs": []
    },
    {
      "cell_type": "markdown",
      "metadata": {
        "id": "yDn0et8_U9FQ"
      },
      "source": [
        "Convertendo o salario para 0 e 1, sendo '1' equivalente a menor ou igual a 50k e '0' maior que 50k por ano"
      ]
    },
    {
      "cell_type": "code",
      "metadata": {
        "trusted": true,
        "id": "7PoAz0YvU9FQ"
      },
      "source": [
        "df['income'] = (df['income']==(\"<=50K\")).astype(int)\n",
        "\n",
        "df['income']"
      ],
      "execution_count": null,
      "outputs": []
    },
    {
      "cell_type": "markdown",
      "metadata": {
        "id": "pRgIMAiXU9FQ"
      },
      "source": [
        "## **Dividindo o DataFrame em int e str**"
      ]
    },
    {
      "cell_type": "code",
      "metadata": {
        "trusted": true,
        "id": "4woOew1fU9FQ"
      },
      "source": [
        "df_str = df.select_dtypes(include='object')\n",
        "df_int = df.select_dtypes(exclude='object')\n",
        "df_str.describe(include='all')\n"
      ],
      "execution_count": null,
      "outputs": []
    },
    {
      "cell_type": "code",
      "metadata": {
        "id": "vgQPn81RNmDM"
      },
      "source": [
        "df_str.head()"
      ],
      "execution_count": null,
      "outputs": []
    },
    {
      "cell_type": "code",
      "metadata": {
        "id": "0AoOGXbZNnea"
      },
      "source": [
        "df_int.head()"
      ],
      "execution_count": null,
      "outputs": []
    },
    {
      "cell_type": "code",
      "metadata": {
        "id": "zFHvUz9FOdhr"
      },
      "source": [
        "df_str = pd.get_dummies(df_str)\n",
        "df_str.head()"
      ],
      "execution_count": null,
      "outputs": []
    },
    {
      "cell_type": "markdown",
      "metadata": {
        "id": "SR2pcKGKNUzr"
      },
      "source": [
        "###Visualizando os dados através de graficos"
      ]
    },
    {
      "cell_type": "code",
      "metadata": {
        "id": "UrAFHljUJls0"
      },
      "source": [
        "import seaborn as sns"
      ],
      "execution_count": null,
      "outputs": []
    },
    {
      "cell_type": "code",
      "metadata": {
        "id": "nlYzW2y6I6kk"
      },
      "source": [
        "df_cat = df.select_dtypes(include = 'object')\n",
        "\n"
      ],
      "execution_count": null,
      "outputs": []
    },
    {
      "cell_type": "code",
      "metadata": {
        "id": "jfovs9nPJgBU"
      },
      "source": [
        "for i in ['workclass', 'education', 'marital-status', 'occupation','relationship', 'race', 'gender', 'native-country']:\n",
        "  sns.countplot(x=i, data = df_cat)\n",
        "  plt.xticks(rotation=90)\n",
        "  plt.show()"
      ],
      "execution_count": null,
      "outputs": []
    },
    {
      "cell_type": "markdown",
      "metadata": {
        "id": "wfiB17usU9FR"
      },
      "source": [
        "## **Normalizing numeric part**"
      ]
    },
    {
      "cell_type": "code",
      "metadata": {
        "trusted": true,
        "id": "lWBcHzx5U9FS"
      },
      "source": [
        "y_last = df_int['income']\n",
        "x = df_int.drop(columns='income')\n",
        "column_names = x.columns.values\n",
        "type(x)"
      ],
      "execution_count": null,
      "outputs": []
    },
    {
      "cell_type": "code",
      "metadata": {
        "trusted": true,
        "id": "Qm4dxTc6U9FS"
      },
      "source": [
        "from sklearn import preprocessing\n",
        "scaler = preprocessing.StandardScaler()\n",
        "x_stndrd = scaler.fit_transform(x)\n",
        "type(x_stndrd)"
      ],
      "execution_count": null,
      "outputs": []
    },
    {
      "cell_type": "markdown",
      "metadata": {
        "id": "T3Hns3kZU9FS"
      },
      "source": [
        "Change x_stndrd's type, because we cannot combine str and int data."
      ]
    },
    {
      "cell_type": "code",
      "metadata": {
        "trusted": true,
        "id": "v7jicfJFU9FS"
      },
      "source": [
        "x_stndrd = pd.DataFrame(x_stndrd)\n",
        "x_stndrd.columns = column_names\n",
        "type(x_stndrd)"
      ],
      "execution_count": null,
      "outputs": []
    },
    {
      "cell_type": "code",
      "metadata": {
        "trusted": true,
        "id": "54dxG1roU9FT"
      },
      "source": [
        "x_last = pd.concat([x_stndrd,df_str],axis=1)\n",
        "x_last"
      ],
      "execution_count": null,
      "outputs": []
    },
    {
      "cell_type": "code",
      "metadata": {
        "id": "bk2jq0ANfP_2"
      },
      "source": [
        "x_last"
      ],
      "execution_count": null,
      "outputs": []
    },
    {
      "cell_type": "markdown",
      "metadata": {
        "id": "yjC5gmn4U9FT"
      },
      "source": [
        "## **Train Test Split**"
      ]
    },
    {
      "cell_type": "code",
      "metadata": {
        "trusted": true,
        "id": "S8b_Y3ejU9FT"
      },
      "source": [
        "from sklearn.model_selection import train_test_split\n",
        "\n",
        "x_train, x_test, y_train, y_test  = train_test_split(x_last,y_last,test_size=0.05,random_state=42)"
      ],
      "execution_count": null,
      "outputs": []
    },
    {
      "cell_type": "markdown",
      "metadata": {
        "id": "Q2BubYQNU9FT"
      },
      "source": [
        "## **Aplicando o KNN**"
      ]
    },
    {
      "cell_type": "code",
      "metadata": {
        "id": "8ZXKlUIBPlL7"
      },
      "source": [
        "#definindo k como raiz quadrada do tamanho do conjunto de treinamento  213\n",
        "n_neighbors = int(len(y_train)**0.5)\n",
        "n_neighbors"
      ],
      "execution_count": null,
      "outputs": []
    },
    {
      "cell_type": "code",
      "metadata": {
        "trusted": true,
        "id": "_UOsE9qkU9FT"
      },
      "source": [
        "from sklearn.neighbors import KNeighborsClassifier\n",
        "neigh = KNeighborsClassifier(n_neighbors).fit(x_train,y_train)"
      ],
      "execution_count": null,
      "outputs": []
    },
    {
      "cell_type": "code",
      "metadata": {
        "trusted": true,
        "id": "0GWm15DWU9FU"
      },
      "source": [
        "y_hat = neigh.predict(x_test)"
      ],
      "execution_count": null,
      "outputs": []
    },
    {
      "cell_type": "code",
      "metadata": {
        "trusted": true,
        "id": "hwi0TFinU9FU"
      },
      "source": [
        "from sklearn import metrics\n",
        "metrics.accuracy_score(y_test,y_hat)"
      ],
      "execution_count": null,
      "outputs": []
    },
    {
      "cell_type": "markdown",
      "metadata": {
        "id": "uvF16xMwU9FU"
      },
      "source": [
        "## selecionando o melhor valor para 'K'"
      ]
    },
    {
      "cell_type": "code",
      "metadata": {
        "trusted": true,
        "id": "nKxksRneU9FU"
      },
      "source": [
        "Ks=15\n",
        "mean_acc = np.zeros((Ks-1))\n",
        "std_acc = np.zeros((Ks-1))\n",
        "\n",
        "for n in range(1,Ks):\n",
        "    neigh = KNeighborsClassifier(n_neighbors = n).fit(x_train,y_train)\n",
        "    y_hat = neigh.predict(x_test)\n",
        "    mean_acc[n-1] = metrics.accuracy_score(y_test,y_hat)\n",
        "    std_acc[n-1] = np.std(y_hat==y_test)/np.sqrt(y_hat.shape[0])\n",
        "    \n",
        "mean_acc"
      ],
      "execution_count": null,
      "outputs": []
    },
    {
      "cell_type": "code",
      "metadata": {
        "trusted": true,
        "id": "A4a0l6xbU9FU"
      },
      "source": [
        "plt.plot(range(1,Ks),mean_acc,'g',marker='o')\n",
        "plt.fill_between(range(1,Ks),mean_acc - 1 * std_acc,mean_acc + 1 * std_acc, alpha=0.10)\n",
        "plt.legend(('Accuracy ', '+/- 3xstd'))\n",
        "plt.ylabel('Accuracy ')\n",
        "plt.xlabel('Number of Neighbors (K)')\n",
        "plt.tight_layout()\n",
        "plt.show()"
      ],
      "execution_count": null,
      "outputs": []
    },
    {
      "cell_type": "markdown",
      "metadata": {
        "id": "nG1L0vteU9FV"
      },
      "source": [
        "Assumindo K como 13"
      ]
    },
    {
      "cell_type": "code",
      "metadata": {
        "trusted": true,
        "id": "0As-pWpMU9FV"
      },
      "source": [
        "neigh = KNeighborsClassifier(n_neighbors=13).fit(x_train,y_train)\n",
        "y_hat = neigh.predict(x_test)\n",
        "metrics.accuracy_score(y_test,y_hat)"
      ],
      "execution_count": null,
      "outputs": []
    },
    {
      "cell_type": "markdown",
      "metadata": {
        "id": "JuQnJn5cU9FV"
      },
      "source": [
        "# **Confusion Matrix**"
      ]
    },
    {
      "cell_type": "code",
      "metadata": {
        "trusted": true,
        "id": "wS271XEZU9FV"
      },
      "source": [
        "from sklearn.metrics import plot_confusion_matrix, confusion_matrix\n",
        "confusion_matrix(y_test, y_hat)"
      ],
      "execution_count": null,
      "outputs": []
    },
    {
      "cell_type": "code",
      "metadata": {
        "trusted": true,
        "id": "h5rFS_XwU9FV"
      },
      "source": [
        "plot_confusion_matrix(neigh,x_test,y_test)"
      ],
      "execution_count": null,
      "outputs": []
    }
  ]
}